{
 "cells": [
  {
   "cell_type": "markdown",
   "metadata": {},
   "source": [
    "# Classification de la Glace"
   ]
  },
  {
   "cell_type": "code",
   "execution_count": 232,
   "metadata": {},
   "outputs": [],
   "source": [
    "import numpy as np\n",
    "import pandas as pd\n",
    "from sklearn.tree import DecisionTreeClassifier\n",
    "from sklearn.preprocessing import StandardScaler\n",
    "from sklearn.ensemble import BaggingClassifier, RandomForestClassifier, ExtraTreesClassifier\n",
    "import matplotlib.pyplot as plt\n",
    "from sklearn.model_selection import GridSearchCV, train_test_split, cross_val_predict\n",
    "from sklearn.metrics import roc_curve, auc, precision_score, recall_score, f1_score\n",
    "\n",
    "\n"
   ]
  },
  {
   "cell_type": "markdown",
   "metadata": {},
   "source": [
    "## Extraction des données"
   ]
  },
  {
   "cell_type": "code",
   "execution_count": 235,
   "metadata": {},
   "outputs": [
    {
     "data": {
      "text/plain": [
       "Index(['time', 't2m', 'u10', 'v10', 'SST', 'SIC', 'r1_MAR', 'r2_MAR', 'r3_MAR',\n",
       "       'r4_MAR', 'r5_MAR'],\n",
       "      dtype='object')"
      ]
     },
     "execution_count": 235,
     "metadata": {},
     "output_type": "execute_result"
    }
   ],
   "source": [
    "df_features = pd.read_csv(\"data_Features.csv\")\n",
    "df_targets = pd.read_csv(\"data_Targets.csv\")\n",
    "\n",
    "y = df_targets['Y1']\n",
    "X = df_features\n",
    "X.columns\n",
    "\n"
   ]
  },
  {
   "cell_type": "code",
   "execution_count": 236,
   "metadata": {},
   "outputs": [],
   "source": [
    "X.dtypes\n",
    "\n",
    "# Convertion de la colonne 'time' en format datetime\n",
    "X['time'] = pd.to_datetime(X['time'], errors='coerce')\n",
    "\n",
    "X['year'] = X['time'].dt.year\n",
    "X['month'] = X['time'].dt.month\n",
    "X['day'] = X['time'].dt.day\n",
    "\n",
    "# Suppression de la colonne 'time'\n",
    "X.drop(columns=['time'], inplace=True)\n",
    "\n"
   ]
  },
  {
   "cell_type": "markdown",
   "metadata": {},
   "source": [
    "## Analyse descriptive"
   ]
  },
  {
   "cell_type": "code",
   "execution_count": 237,
   "metadata": {},
   "outputs": [
    {
     "name": "stdout",
     "output_type": "stream",
     "text": [
      "Information sur la classe à prédire :\n",
      "      Y1  count\n",
      "0     0   2262\n",
      "1     1     62\n",
      "2     2     22\n",
      "3     6     13\n",
      "4     5     11\n",
      "..  ...    ...\n",
      "84   98      1\n",
      "85   13      1\n",
      "86   30      1\n",
      "87   56      1\n",
      "88  100      1\n",
      "\n",
      "[89 rows x 2 columns]\n"
     ]
    }
   ],
   "source": [
    "scaler = StandardScaler()\n",
    "X = scaler.fit_transform(X)\n",
    "classe = y.value_counts().reset_index()\n",
    "print(\"Information sur la classe à prédire :\\n\",classe)\n",
    "\n"
   ]
  },
  {
   "cell_type": "code",
   "execution_count": 241,
   "metadata": {},
   "outputs": [
    {
     "name": "stderr",
     "output_type": "stream",
     "text": [
      "/opt/anaconda3/lib/python3.11/site-packages/seaborn/_oldcore.py:1119: FutureWarning: use_inf_as_na option is deprecated and will be removed in a future version. Convert inf values to NaN before operating instead.\n",
      "  with pd.option_context('mode.use_inf_as_na', True):\n",
      "/var/folders/vy/_lpj4bm56kqfvhjsl70wykwm0000gn/T/ipykernel_34952/2511457614.py:10: UserWarning: No artists with labels found to put in legend.  Note that artists whose label start with an underscore are ignored when legend() is called with no argument.\n",
      "  plt.legend()\n"
     ]
    },
    {
     "data": {
      "image/png": "[encoded data removed]",
      "text/plain": [
       "<Figure size 1000x600 with 1 Axes>"
      ]
     },
     "metadata": {},
     "output_type": "display_data"
    }
   ],
   "source": [
    "import seaborn as sns\n",
    "\n",
    "plt.figure(figsize=(10, 6))\n",
    "sns.histplot(y, bins=30, kde=True, color='blue')\n",
    "#plt.axvline(optimal_threshold, color='red', linestyle='--', label='Seuil à 250')\n",
    "plt.title('Distribution de Y1 avec Seuil')\n",
    "plt.xlabel('Valeurs de Y1')\n",
    "plt.ylabel('Fréquence')\n",
    "plt.legend()\n",
    "plt.grid()\n",
    "plt.show()"
   ]
  },
  {
   "cell_type": "markdown",
   "metadata": {},
   "source": [
    "## Determination du seuil optimal pour Random Forest"
   ]
  },
  {
   "cell_type": "code",
   "execution_count": 239,
   "metadata": {},
   "outputs": [
    {
     "name": "stdout",
     "output_type": "stream",
     "text": [
      "Seuil optimal basé sur le F1-score : 0.59\n",
      "F1-score au seuil optimal : 0.72\n",
      "Précision de Random Forest : 0.94921875\n",
      "Rapport de classification :\n",
      "               precision    recall  f1-score   support\n",
      "\n",
      "           0       0.96      0.99      0.97       458\n",
      "           1       0.85      0.63      0.72        54\n",
      "\n",
      "    accuracy                           0.95       512\n",
      "   macro avg       0.90      0.81      0.85       512\n",
      "weighted avg       0.95      0.95      0.95       512\n",
      "\n",
      "Matrice de confusion :\n",
      " [[452   6]\n",
      " [ 20  34]]\n"
     ]
    }
   ],
   "source": [
    "threshold = y.median()  \n",
    "y_binary = (y > threshold).astype(int)\n",
    "\n",
    "X_train, X_test, y_train, y_test = train_test_split(X, y_binary, test_size=0.2, random_state=42)\n",
    "\n",
    "rf_model = RandomForestClassifier(n_estimators= 100, random_state=42)\n",
    "rf_model.fit(X_train, y_train)\n",
    "\n",
    "y_probs = rf_model.predict_proba(X_test)[:, 1]\n",
    "\n",
    "thresholds = np.arange(0.0, 1.0, 0.01)\n",
    "f1_scores = []\n",
    "\n",
    "for threshold in thresholds:\n",
    "    y_pred = (y_probs >= threshold).astype(int)\n",
    "    f1 = f1_score(y_test, y_pred)\n",
    "    f1_scores.append(f1)\n",
    "\n",
    "optimal_idx = np.argmax(f1_scores)\n",
    "optimal_threshold = thresholds[optimal_idx]\n",
    "optimal_f1_score = f1_scores[optimal_idx]\n",
    "\n",
    "print(f\"Seuil optimal basé sur le F1-score : {optimal_threshold:.2f}\")\n",
    "print(f\"F1-score au seuil optimal : {optimal_f1_score:.2f}\")\n",
    "\n",
    "y_pred_optimal = (y_probs >= optimal_threshold).astype(int)\n",
    "\n",
    "acc = accuracy_score(y_test, y_pred_optimal)\n",
    "print(f'Précision de Random Forest : {acc}')\n",
    "class_report = classification_report(y_test, y_pred_optimal)\n",
    "print(f\"Rapport de classification :\\n {class_report}\")\n",
    "\n",
    "conf_matrix = confusion_matrix(y_test, y_pred_optimal)\n",
    "print(f\"Matrice de confusion :\\n {conf_matrix}\")\n"
   ]
  },
  {
   "cell_type": "markdown",
   "metadata": {},
   "source": [
    "## Cross Validation et Hyperparamètres de Random Forest"
   ]
  },
  {
   "cell_type": "code",
   "execution_count": 222,
   "metadata": {},
   "outputs": [
    {
     "name": "stdout",
     "output_type": "stream",
     "text": [
      "Meilleurs paramètres : {'max_depth': None, 'min_samples_split': 5, 'n_estimators': 50}\n",
      "Meilleur F1-score lors de la validation croisée : 0.81\n",
      "Seuil optimal basé sur le F1-score : 0.48\n",
      "F1-score au seuil optimal : 0.82\n"
     ]
    }
   ],
   "source": [
    "param_grid = {\n",
    "    'n_estimators': [50, 100, 200],\n",
    "    'max_depth': [None, 10, 20, 30],\n",
    "    'min_samples_split': [2, 5, 10]\n",
    "}\n",
    "\n",
    "rf_model = RandomForestClassifier(random_state=42)\n",
    "\n",
    "grid_search = GridSearchCV(\n",
    "    estimator=rf_model,\n",
    "    param_grid=param_grid,\n",
    "    scoring='f1',  \n",
    "    cv=5,\n",
    "    n_jobs=-1  \n",
    ")\n",
    "\n",
    "grid_search.fit(X_train, y_train)\n",
    "\n",
    "best_rf_model = grid_search.best_estimator_\n",
    "print(f\"Meilleurs paramètres : {grid_search.best_params_}\")\n",
    "print(f\"Meilleur F1-score lors de la validation croisée : {grid_search.best_score_:.2f}\")\n",
    "\n",
    "y_probs = best_rf_model.predict_proba(X_test)[:, 1]\n",
    "\n",
    "thresholds = np.arange(0.0, 1.0, 0.01)\n",
    "f1_scores = []\n",
    "\n",
    "for threshold in thresholds:\n",
    "    y_pred = (y_probs >= threshold).astype(int)\n",
    "    f1 = f1_score(y_test, y_pred)\n",
    "    f1_scores.append(f1)\n",
    "\n",
    "optimal_idx = np.argmax(f1_scores)\n",
    "optimal_threshold = thresholds[optimal_idx]\n",
    "optimal_f1_score = f1_scores[optimal_idx]\n",
    "\n",
    "print(f\"Seuil optimal basé sur le F1-score : {optimal_threshold:.2f}\")\n",
    "print(f\"F1-score au seuil optimal : {optimal_f1_score:.2f}\")\n"
   ]
  },
  {
   "cell_type": "code",
   "execution_count": 223,
   "metadata": {},
   "outputs": [
    {
     "name": "stdout",
     "output_type": "stream",
     "text": [
      "Précision avec Random Forest optimisé : 0.97\n",
      "Rapport de classification :\n",
      "               precision    recall  f1-score   support\n",
      "\n",
      "           0       0.99      0.99      0.99       472\n",
      "           1       0.82      0.82      0.82        40\n",
      "\n",
      "    accuracy                           0.97       512\n",
      "   macro avg       0.91      0.91      0.91       512\n",
      "weighted avg       0.97      0.97      0.97       512\n",
      "\n",
      "Matrice de confusion :\n",
      " [[465   7]\n",
      " [  7  33]]\n"
     ]
    }
   ],
   "source": [
    "y_pred_optimal = (y_probs >= optimal_threshold).astype(int)\n",
    "\n",
    "acc = accuracy_score(y_test, y_pred_optimal)\n",
    "print(f'Précision avec Random Forest optimisé : {acc:.2f}')\n",
    "class_report = classification_report(y_test, y_pred_optimal)\n",
    "print(f\"Rapport de classification :\\n {class_report}\")\n",
    "\n",
    "conf_matrix = confusion_matrix(y_test, y_pred_optimal)\n",
    "print(f\"Matrice de confusion :\\n {conf_matrix}\")"
   ]
  },
  {
   "cell_type": "markdown",
   "metadata": {},
   "source": [
    "## Determination du seuil optimal pour Bagging"
   ]
  },
  {
   "cell_type": "code",
   "execution_count": 240,
   "metadata": {},
   "outputs": [
    {
     "name": "stdout",
     "output_type": "stream",
     "text": [
      "Seuil optimal basé sur le F1-score : 0.31\n",
      "F1-score au seuil optimal : 0.67\n",
      "Précision du modèle : 0.93\n",
      "Rapport de classification :\n",
      "               precision    recall  f1-score   support\n",
      "\n",
      "           0       0.96      0.97      0.96       458\n",
      "           1       0.69      0.65      0.67        54\n",
      "\n",
      "    accuracy                           0.93       512\n",
      "   macro avg       0.82      0.81      0.81       512\n",
      "weighted avg       0.93      0.93      0.93       512\n",
      "\n",
      "Matrice de confusion :\n",
      " [[442  16]\n",
      " [ 19  35]]\n"
     ]
    }
   ],
   "source": [
    "bagging = BaggingClassifier(estimator=DecisionTreeClassifier(), random_state=42)\n",
    "bagging.fit(X_train, y_train)\n",
    "\n",
    "# Prédire les probabilités\n",
    "y_probs_bagging = bagging.predict_proba(X_test)[:, 1]\n",
    "\n",
    "# Définir les seuils\n",
    "thresholds = np.arange(0.0, 1.0, 0.01)\n",
    "f1_scores_bagging = []\n",
    "\n",
    "# Calculer les F1-scores pour divers seuils\n",
    "for threshold in thresholds:\n",
    "    y_pred_bagging = (y_probs_bagging >= threshold).astype(int)\n",
    "    f1_bagging = f1_score(y_test, y_pred_bagging)\n",
    "    f1_scores_bagging.append(f1_bagging)  # Utiliser f1_bagging ici\n",
    "\n",
    "# Identifier le seuil optimal basé sur le F1-score\n",
    "optimal_idx_bagging = np.argmax(f1_scores_bagging)\n",
    "optimal_threshold_bagging = thresholds[optimal_idx_bagging]\n",
    "optimal_f1_score_bagging = f1_scores_bagging[optimal_idx_bagging]\n",
    "\n",
    "\n",
    "print(f\"Seuil optimal basé sur le F1-score : {optimal_threshold_bagging:.2f}\")\n",
    "print(f\"F1-score au seuil optimal : {optimal_f1_score_bagging:.2f}\")\n",
    "\n",
    "# Prédire les classes en utilisant le seuil optimal\n",
    "y_pred_optimal_bagging = (y_probs_bagging >= optimal_threshold_bagging).astype(int)\n",
    "\n",
    "# Calculer l'exactitude\n",
    "acc_bagging = accuracy_score(y_test, y_pred_optimal_bagging)\n",
    "print(f'Précision du modèle : {acc_bagging:.2f}')\n",
    "\n",
    "# Afficher le rapport de classification\n",
    "class_report_bagging = classification_report(y_test, y_pred_optimal_bagging)\n",
    "print(f\"Rapport de classification :\\n {class_report_bagging}\")\n",
    "\n",
    "# Calculer la matrice de confusion\n",
    "conf_matrix_bagging = confusion_matrix(y_test, y_pred_optimal_bagging)\n",
    "print(f\"Matrice de confusion :\\n {conf_matrix_bagging}\")"
   ]
  },
  {
   "cell_type": "markdown",
   "metadata": {},
   "source": [
    "## Cross Validation et hyperparamètres pour Bagging"
   ]
  },
  {
   "cell_type": "code",
   "execution_count": 227,
   "metadata": {},
   "outputs": [
    {
     "name": "stdout",
     "output_type": "stream",
     "text": [
      "Meilleurs paramètres pour BaggingClassifier : {'estimator__max_depth': None, 'max_samples': 0.5, 'n_estimators': 100}\n",
      "Meilleur F1-score lors de la validation croisée : 0.81\n",
      "Seuil optimal basé sur le F1-score : 0.53\n",
      "F1-score au seuil optimal : 0.84\n",
      "Précision du modèle Bagging : 0.97\n",
      "Rapport de classification :\n",
      "               precision    recall  f1-score   support\n",
      "\n",
      "           0       0.99      0.99      0.99       472\n",
      "           1       0.85      0.82      0.84        40\n",
      "\n",
      "    accuracy                           0.97       512\n",
      "   macro avg       0.92      0.91      0.91       512\n",
      "weighted avg       0.97      0.97      0.97       512\n",
      "\n",
      "Matrice de confusion :\n",
      " [[466   6]\n",
      " [  7  33]]\n"
     ]
    }
   ],
   "source": [
    "param_grid_bagging = {\n",
    "    'n_estimators': [10, 50, 100],\n",
    "    'estimator__max_depth': [None, 10, 20],\n",
    "    'max_samples': [0.5, 1.0]\n",
    "}\n",
    "\n",
    "bagging_model = BaggingClassifier(estimator=DecisionTreeClassifier(), random_state=42)\n",
    "\n",
    "grid_search_bagging = GridSearchCV(\n",
    "    estimator=bagging_model,\n",
    "    param_grid=param_grid_bagging,\n",
    "    scoring='f1',\n",
    "    cv=5,\n",
    "    n_jobs=-1\n",
    ")\n",
    "\n",
    "grid_search_bagging.fit(X_train, y_train)\n",
    "\n",
    "best_bagging_model = grid_search_bagging.best_estimator_\n",
    "print(f\"Meilleurs paramètres pour BaggingClassifier : {grid_search_bagging.best_params_}\")\n",
    "print(f\"Meilleur F1-score lors de la validation croisée : {grid_search_bagging.best_score_:.2f}\")\n",
    "\n",
    "y_probs_bagging = best_bagging_model.predict_proba(X_test)[:, 1]\n",
    "\n",
    "thresholds = np.arange(0.0, 1.0, 0.01)\n",
    "f1_scores_bagging = []\n",
    "\n",
    "for threshold in thresholds:\n",
    "    y_pred_bagging = (y_probs_bagging >= threshold).astype(int)\n",
    "    f1_bagging = f1_score(y_test, y_pred_bagging)\n",
    "    f1_scores_bagging.append(f1_bagging)\n",
    "\n",
    "optimal_idx_bagging = np.argmax(f1_scores_bagging)\n",
    "optimal_threshold_bagging = thresholds[optimal_idx_bagging]\n",
    "optimal_f1_score_bagging = f1_scores_bagging[optimal_idx_bagging]\n",
    "\n",
    "print(f\"Seuil optimal basé sur le F1-score : {optimal_threshold_bagging:.2f}\")\n",
    "print(f\"F1-score au seuil optimal : {optimal_f1_score_bagging:.2f}\")\n",
    "\n",
    "y_pred_optimal_bagging = (y_probs_bagging >= optimal_threshold_bagging).astype(int)\n",
    "\n",
    "acc_bagging = accuracy_score(y_test, y_pred_optimal_bagging)\n",
    "print(f'Précision du modèle Bagging : {acc_bagging:.2f}')\n",
    "class_report_bagging = classification_report(y_test, y_pred_optimal_bagging)\n",
    "print(f\"Rapport de classification :\\n {class_report_bagging}\")\n",
    "\n",
    "conf_matrix_bagging = confusion_matrix(y_test, y_pred_optimal_bagging)\n",
    "print(f\"Matrice de confusion :\\n {conf_matrix_bagging}\")\n"
   ]
  },
  {
   "cell_type": "markdown",
   "metadata": {},
   "source": [
    "## Determination du seuil pour Decision Tree"
   ]
  },
  {
   "cell_type": "code",
   "execution_count": 216,
   "metadata": {},
   "outputs": [
    {
     "name": "stdout",
     "output_type": "stream",
     "text": [
      "Seuil optimal basé sur le F1-score : 0.01\n",
      "F1-score au seuil optimal : 0.71\n",
      "Précision du modèle : 0.96\n",
      "Rapport de classification :\n",
      "               precision    recall  f1-score   support\n",
      "\n",
      "           0       0.97      0.98      0.98       472\n",
      "           1       0.72      0.70      0.71        40\n",
      "\n",
      "    accuracy                           0.96       512\n",
      "   macro avg       0.85      0.84      0.84       512\n",
      "weighted avg       0.95      0.96      0.95       512\n",
      "\n",
      "Matrice de confusion :\n",
      " [[461  11]\n",
      " [ 12  28]]\n"
     ]
    }
   ],
   "source": [
    "dt = DecisionTreeClassifier(random_state=42)\n",
    "dt.fit(X_train, y_train)\n",
    "\n",
    "y_probs_dt = dt.predict_proba(X_test)[:, 1]\n",
    "\n",
    "thresholds = np.arange(0.0, 1.0, 0.01)\n",
    "f1_scores_dt = []\n",
    "\n",
    "for threshold in thresholds:\n",
    "    y_pred_dt = (y_probs_dt >= threshold).astype(int)\n",
    "    f1_dt = f1_score(y_test, y_pred_dt)\n",
    "    f1_scores_dt.append(f1_dt) \n",
    "\n",
    "optimal_idx_dt = np.argmax(f1_scores_dt)\n",
    "optimal_threshold_dt = thresholds[optimal_idx_dt]\n",
    "optimal_f1_score_dt = f1_scores_dt[optimal_idx_dt]\n",
    "\n",
    "\n",
    "print(f\"Seuil optimal basé sur le F1-score : {optimal_threshold_dt:.2f}\")\n",
    "print(f\"F1-score au seuil optimal : {optimal_f1_score_dt:.2f}\")\n",
    "\n",
    "y_pred_optimal_dt = (y_probs_dt >= optimal_threshold_dt).astype(int)\n",
    "\n",
    "acc_dt = accuracy_score(y_test, y_pred_optimal_dt)\n",
    "print(f'Précision du modèle : {acc_dt:.2f}')\n",
    "\n",
    "class_report_dt = classification_report(y_test, y_pred_optimal_dt)\n",
    "print(f\"Rapport de classification :\\n {class_report_dt}\")\n",
    "\n",
    "conf_matrix_dt = confusion_matrix(y_test, y_pred_optimal_dt)\n",
    "print(f\"Matrice de confusion :\\n {conf_matrix_dt}\")"
   ]
  },
  {
   "cell_type": "markdown",
   "metadata": {},
   "source": [
    "## Determination du seuil pour Extra Trees"
   ]
  },
  {
   "cell_type": "code",
   "execution_count": 218,
   "metadata": {},
   "outputs": [
    {
     "name": "stdout",
     "output_type": "stream",
     "text": [
      "Seuil optimal basé sur le F1-score : 0.01\n",
      "F1-score au seuil optimal : 0.71\n",
      "Précision du modèle : 0.96\n",
      "Rapport de classification :\n",
      "               precision    recall  f1-score   support\n",
      "\n",
      "           0       0.97      0.98      0.98       472\n",
      "           1       0.72      0.70      0.71        40\n",
      "\n",
      "    accuracy                           0.96       512\n",
      "   macro avg       0.85      0.84      0.84       512\n",
      "weighted avg       0.95      0.96      0.95       512\n",
      "\n",
      "Matrice de confusion :\n",
      " [[461  11]\n",
      " [ 12  28]]\n"
     ]
    }
   ],
   "source": [
    "et = ExtraTreesClassifier(n_estimators = 100, random_state =42)\n",
    "et.fit(X_train, y_train)\n",
    "\n",
    "y_probs_et = dt.predict_proba(X_test)[:, 1]\n",
    "\n",
    "# Définir les seuils\n",
    "thresholds = np.arange(0.0, 1.0, 0.01)\n",
    "f1_scores_et = []\n",
    "\n",
    "# Calculer les F1-scores pour divers seuils\n",
    "for threshold in thresholds:\n",
    "    y_pred_et = (y_probs_et >= threshold).astype(int)\n",
    "    f1_et = f1_score(y_test, y_pred_et)\n",
    "    f1_scores_et.append(f1_et)  # Utiliser f1_bagging ici\n",
    "\n",
    "# Identifier le seuil optimal basé sur le F1-score\n",
    "optimal_idx_et = np.argmax(f1_scores_et)\n",
    "optimal_threshold_et = thresholds[optimal_idx_et]\n",
    "optimal_f1_score_et = f1_scores_et[optimal_idx_et]\n",
    "\n",
    "\n",
    "print(f\"Seuil optimal basé sur le F1-score : {optimal_threshold_et:.2f}\")\n",
    "print(f\"F1-score au seuil optimal : {optimal_f1_score_et:.2f}\")\n",
    "\n",
    "# Prédire les classes en utilisant le seuil optimal\n",
    "y_pred_optimal_et = (y_probs_et >= optimal_threshold_et).astype(int)\n",
    "\n",
    "# Calculer l'exactitude\n",
    "acc_et = accuracy_score(y_test, y_pred_optimal_et)\n",
    "print(f'Précision du modèle : {acc_et:.2f}')\n",
    "\n",
    "# Afficher le rapport de classification\n",
    "class_report_et = classification_report(y_test, y_pred_optimal_et)\n",
    "print(f\"Rapport de classification :\\n {class_report_et}\")\n",
    "\n",
    "# Calculer la matrice de confusion\n",
    "conf_matrix_et = confusion_matrix(y_test, y_pred_optimal_et)\n",
    "print(f\"Matrice de confusion :\\n {conf_matrix_et}\")"
   ]
  },
  {
   "cell_type": "markdown",
   "metadata": {},
   "source": [
    "## Cross Validation et hyperparamètres pour Decision Tree"
   ]
  },
  {
   "cell_type": "code",
   "execution_count": 228,
   "metadata": {},
   "outputs": [
    {
     "name": "stdout",
     "output_type": "stream",
     "text": [
      "Meilleurs paramètres pour DecisionTreeClassifier : {'max_depth': None, 'min_samples_leaf': 2, 'min_samples_split': 5}\n",
      "Meilleur F1-score lors de la validation croisée : 0.72\n",
      "Seuil optimal basé sur le F1-score : 0.51\n",
      "F1-score au seuil optimal : 0.76\n",
      "Précision du modèle Decision Tree : 0.96\n",
      "Rapport de classification :\n",
      "               precision    recall  f1-score   support\n",
      "\n",
      "           0       0.97      0.99      0.98       472\n",
      "           1       0.82      0.70      0.76        40\n",
      "\n",
      "    accuracy                           0.96       512\n",
      "   macro avg       0.90      0.84      0.87       512\n",
      "weighted avg       0.96      0.96      0.96       512\n",
      "\n",
      "Matrice de confusion :\n",
      " [[466   6]\n",
      " [ 12  28]]\n"
     ]
    }
   ],
   "source": [
    "param_grid_dt = {\n",
    "    'max_depth': [None, 10, 20, 30],\n",
    "    'min_samples_split': [2, 5, 10],\n",
    "    'min_samples_leaf': [1, 2, 5]\n",
    "}\n",
    "\n",
    "# Initialiser DecisionTreeClassifier\n",
    "dt_model = DecisionTreeClassifier(random_state=42)\n",
    "\n",
    "# Configuration de la validation croisée avec GridSearchCV\n",
    "grid_search_dt = GridSearchCV(\n",
    "    estimator=dt_model,\n",
    "    param_grid=param_grid_dt,\n",
    "    scoring='f1',\n",
    "    cv=5,\n",
    "    n_jobs=-1\n",
    ")\n",
    "\n",
    "# Effectuer la recherche de grille\n",
    "grid_search_dt.fit(X_train, y_train)\n",
    "\n",
    "# Récupérer le meilleur modèle Decision Tree\n",
    "best_dt_model = grid_search_dt.best_estimator_\n",
    "print(f\"Meilleurs paramètres pour DecisionTreeClassifier : {grid_search_dt.best_params_}\")\n",
    "print(f\"Meilleur F1-score lors de la validation croisée : {grid_search_dt.best_score_:.2f}\")\n",
    "\n",
    "# Prédire les probabilités avec le meilleur modèle Decision Tree\n",
    "y_probs_dt = best_dt_model.predict_proba(X_test)[:, 1]\n",
    "\n",
    "# Calculer les F1-scores pour divers seuils\n",
    "thresholds = np.arange(0.0, 1.0, 0.01)\n",
    "f1_scores_dt = []\n",
    "\n",
    "for threshold in thresholds:\n",
    "    y_pred_dt = (y_probs_dt >= threshold).astype(int)\n",
    "    f1_dt = f1_score(y_test, y_pred_dt)\n",
    "    f1_scores_dt.append(f1_dt)\n",
    "\n",
    "# Identifier le seuil optimal basé sur le F1-score\n",
    "optimal_idx_dt = np.argmax(f1_scores_dt)\n",
    "optimal_threshold_dt = thresholds[optimal_idx_dt]\n",
    "optimal_f1_score_dt = f1_scores_dt[optimal_idx_dt]\n",
    "\n",
    "print(f\"Seuil optimal basé sur le F1-score : {optimal_threshold_dt:.2f}\")\n",
    "print(f\"F1-score au seuil optimal : {optimal_f1_score_dt:.2f}\")\n",
    "\n",
    "# Prédire les classes en utilisant le seuil optimal\n",
    "y_pred_optimal_dt = (y_probs_dt >= optimal_threshold_dt).astype(int)\n",
    "\n",
    "# Calculer l'exactitude, le rapport de classification et la matrice de confusion\n",
    "acc_dt = accuracy_score(y_test, y_pred_optimal_dt)\n",
    "print(f'Précision du modèle Decision Tree : {acc_dt:.2f}')\n",
    "class_report_dt = classification_report(y_test, y_pred_optimal_dt)\n",
    "print(f\"Rapport de classification :\\n {class_report_dt}\")\n",
    "\n",
    "conf_matrix_dt = confusion_matrix(y_test, y_pred_optimal_dt)\n",
    "print(f\"Matrice de confusion :\\n {conf_matrix_dt}\")"
   ]
  },
  {
   "cell_type": "markdown",
   "metadata": {},
   "source": [
    "## Cross Validation et hyperparamètres pour Extra Trees"
   ]
  },
  {
   "cell_type": "code",
   "execution_count": 229,
   "metadata": {},
   "outputs": [
    {
     "name": "stdout",
     "output_type": "stream",
     "text": [
      "Meilleurs paramètres pour ExtraTreesClassifier : {'max_depth': 20, 'min_samples_leaf': 1, 'min_samples_split': 2, 'n_estimators': 200}\n",
      "Meilleur F1-score lors de la validation croisée : 0.84\n",
      "Seuil optimal basé sur le F1-score : 0.50\n",
      "F1-score au seuil optimal : 0.85\n",
      "Précision du modèle Extra Trees : 0.98\n",
      "Rapport de classification :\n",
      "               precision    recall  f1-score   support\n",
      "\n",
      "           0       0.99      0.99      0.99       472\n",
      "           1       0.87      0.82      0.85        40\n",
      "\n",
      "    accuracy                           0.98       512\n",
      "   macro avg       0.93      0.91      0.92       512\n",
      "weighted avg       0.98      0.98      0.98       512\n",
      "\n",
      "Matrice de confusion :\n",
      " [[467   5]\n",
      " [  7  33]]\n"
     ]
    }
   ],
   "source": [
    "param_grid_et = {\n",
    "    'n_estimators': [50, 100, 200],\n",
    "    'max_depth': [None, 10, 20, 30],\n",
    "    'min_samples_split': [2, 5, 10],\n",
    "    'min_samples_leaf': [1, 2, 5]\n",
    "}\n",
    "\n",
    "et_model = ExtraTreesClassifier(random_state=42)\n",
    "\n",
    "grid_search_et = GridSearchCV(\n",
    "    estimator=et_model,\n",
    "    param_grid=param_grid_et,\n",
    "    scoring='f1',\n",
    "    cv=5,\n",
    "    n_jobs=-1\n",
    ")\n",
    "\n",
    "grid_search_et.fit(X_train, y_train)\n",
    "\n",
    "best_et_model = grid_search_et.best_estimator_\n",
    "print(f\"Meilleurs paramètres pour ExtraTreesClassifier : {grid_search_et.best_params_}\")\n",
    "print(f\"Meilleur F1-score lors de la validation croisée : {grid_search_et.best_score_:.2f}\")\n",
    "\n",
    "y_probs_et = best_et_model.predict_proba(X_test)[:, 1]\n",
    "\n",
    "thresholds = np.arange(0.0, 1.0, 0.01)\n",
    "f1_scores_et = []\n",
    "\n",
    "for threshold in thresholds:\n",
    "    y_pred_et = (y_probs_et >= threshold).astype(int)\n",
    "    f1_et = f1_score(y_test, y_pred_et)\n",
    "    f1_scores_et.append(f1_et)\n",
    "\n",
    "optimal_idx_et = np.argmax(f1_scores_et)\n",
    "optimal_threshold_et = thresholds[optimal_idx_et]\n",
    "optimal_f1_score_et = f1_scores_et[optimal_idx_et]\n",
    "\n",
    "print(f\"Seuil optimal basé sur le F1-score : {optimal_threshold_et:.2f}\")\n",
    "print(f\"F1-score au seuil optimal : {optimal_f1_score_et:.2f}\")\n",
    "\n",
    "y_pred_optimal_et = (y_probs_et >= optimal_threshold_et).astype(int)\n",
    "\n",
    "acc_et = accuracy_score(y_test, y_pred_optimal_et)\n",
    "print(f'Précision du modèle Extra Trees : {acc_et:.2f}')\n",
    "class_report_et = classification_report(y_test, y_pred_optimal_et)\n",
    "print(f\"Rapport de classification :\\n {class_report_et}\")\n",
    "\n",
    "conf_matrix_et = confusion_matrix(y_test, y_pred_optimal_et)\n",
    "print(f\"Matrice de confusion :\\n {conf_matrix_et}\")"
   ]
  },
  {
   "cell_type": "markdown",
   "metadata": {},
   "source": [
    "## Tracage des Courbes ROC"
   ]
  },
  {
   "cell_type": "code",
   "execution_count": 230,
   "metadata": {},
   "outputs": [
    {
     "data": {
      "image/png": "[encoded data removed]",
      "text/plain": [
       "<Figure size 640x480 with 1 Axes>"
      ]
     },
     "metadata": {},
     "output_type": "display_data"
    }
   ],
   "source": [
    "models = {\n",
    "    \"Random Forest\": y_probs,\n",
    "    \"Bagging\": y_probs_bagging,\n",
    "    \"Decision Tree\": y_probs_dt,\n",
    "    \"Extra Trees\": y_probs_et,\n",
    "}\n",
    "\n",
    "for model_name, y_prob in models.items():\n",
    "    fpr, tpr, _ = roc_curve(y_test, y_prob)\n",
    "    roc_auc = auc(fpr, tpr)  # Calculer l'aire sous la courbe\n",
    "    plt.plot(fpr, tpr, label=f'{model_name} (AUC = {roc_auc:.2f})')\n",
    "\n",
    "plt.plot([0, 1], [0, 1], 'k--', label='Chance Level (AUC = 0.5)')\n",
    "plt.xlim([0.0, 1.0])\n",
    "plt.ylim([0.0, 1.0])\n",
    "plt.xlabel('Taux de Faux Positifs')\n",
    "plt.ylabel('Taux de Vrais Positifs')\n",
    "plt.title('Courbes ROC des Modèles')\n",
    "plt.legend(loc='lower right')\n",
    "plt.grid()\n",
    "plt.show()"
   ]
  }
 ],
 "metadata": {
  "kernelspec": {
   "display_name": "base",
   "language": "python",
   "name": "python3"
  },
  "language_info": {
   "codemirror_mode": {
    "name": "ipython",
    "version": 3
   },
   "file_extension": ".py",
   "mimetype": "text/x-python",
   "name": "python",
   "nbconvert_exporter": "python",
   "pygments_lexer": "ipython3",
   "version": "3.11.7"
  }
 },
 "nbformat": 4,
 "nbformat_minor": 2
}
